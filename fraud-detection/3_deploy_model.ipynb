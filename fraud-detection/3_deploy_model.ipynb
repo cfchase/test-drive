{
 "cells": [
  {
   "cell_type": "markdown",
   "source": [
    "# Deploy the Model"
   ],
   "metadata": {
    "collapsed": false
   }
  },
  {
   "cell_type": "markdown",
   "source": [
    "Now that the model is accessible in storage and saved in a portable\n",
    "`onnx` format, we can very easily use a OpenShift AI model server to\n",
    "deploy it as an API.\n",
    "\n",
    "We'll complete this workflow in the **OpenShift AI Dashboard**.\n",
    "\n",
    "# Create a Model Server \n",
    "\n",
    "OpenShift AI multi-model servers can host several models at once. We'll\n",
    "create a new model server and deploy our model to it.\n",
    "\n",
    "-   In the **Models and model servers** list, click **Add server**.\n",
    "\n",
    "![Add Server](assets/ds-project-model-list-add.png)\n",
    "\n",
    "In the form:\n",
    "\n",
    "-   Fill out the **Model server name**. We named ours `Model Server`.\n",
    "\n",
    "-   Select `OpenVINO Model Server`.\n",
    "\n",
    "-   Leave other fields (replicas, size, route, auth) as the defaults.\n",
    "\n",
    "![Add Server Form](assets/create-model-server-form.png)\n",
    "\n",
    "# Deploy a Model \n",
    "\n",
    "-   In the **Models and model servers** list, next to your new model\n",
    "    server, click **Deploy model**.\n",
    "\n",
    "![Deploy model\n",
    "button](assets/ds-project-workbench-list-deploy.png)\n",
    "\n",
    "In the form:\n",
    "\n",
    "-   Fill out the **Model Name** with the value `fraud`.\n",
    "\n",
    "-   Select the server you created (`Model Server`).\n",
    "\n",
    "-   Select the **Existing data connection** `My Storage`\n",
    "\n",
    "-   Enter the path to your uploaded model, `models/fraud/model.onnx`\n",
    "\n",
    "![Deploy Model Form](assets/deploy-model-form.png)\n",
    "\n",
    "-   Wait for the model to deploy and wait until the **Status** shows a\n",
    "    green checkmark.\n",
    "\n",
    "![Model Status](assets/ds-project-model-list-status.png)\n",
    "\n",
    "-   Take note of the API Endpoint name and URL. We'll use this in the\n",
    "    next section.\n",
    "\n",
    "![Model Name](assets/ds-project-model-list-name.png)\n",
    "\n",
    "![Model URL](assets/ds-project-model-list-url.png)\n"
   ],
   "metadata": {
    "collapsed": false
   }
  },
  {
   "cell_type": "markdown",
   "source": [],
   "metadata": {
    "collapsed": false
   }
  }
 ],
 "metadata": {
  "celltoolbar": "Raw Cell Format",
  "kernelspec": {
   "display_name": "Python 3.9",
   "language": "python",
   "name": "python3"
  },
  "language_info": {
   "codemirror_mode": {
    "name": "ipython",
    "version": 3
   },
   "file_extension": ".py",
   "mimetype": "text/x-python",
   "name": "python",
   "nbconvert_exporter": "python",
   "pygments_lexer": "ipython3",
   "version": "3.9.16"
  }
 },
 "nbformat": 4,
 "nbformat_minor": 4
}
