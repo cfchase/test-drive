{
 "cells": [
  {
   "cell_type": "markdown",
   "id": "6e5a822c-8519-46b2-8955-750563941e2e",
   "metadata": {},
   "source": [
    "# Convert a Large Language Model using Caikit-NLP\n",
    "\n",
    "In order to serve a large language model (llm) on Red Hat OpenShift AI using [Caikit TGIS Serving](https://github.com/opendatahub-io/caikit-tgis-serving), first, we'll want to convert the model using [Caikit-NLP](https://github.com/opendatahub-io/caikit-nlp)."
   ]
  },
  {
   "cell_type": "markdown",
   "id": "f66d11fe-0574-42bf-9aa5-356d3852f0c1",
   "metadata": {},
   "source": [
    "## Install Python dependencies\n",
    "\n",
    "Caikit is still under active development, so first, we'll download and install the Python library from source"
   ]
  },
  {
   "cell_type": "code",
   "execution_count": null,
   "id": "8aa3a67b-ebf7-4737-9f41-0730ee009009",
   "metadata": {
    "tags": []
   },
   "outputs": [],
   "source": [
    "!git clone https://github.com/caikit/caikit-nlp.git"
   ]
  },
  {
   "cell_type": "code",
   "execution_count": null,
   "id": "752d93c2-dca2-4d23-9143-ad789a8b61ad",
   "metadata": {},
   "outputs": [],
   "source": [
    "!pip install -q ./caikit-nlp"
   ]
  },
  {
   "cell_type": "markdown",
   "id": "39e382b8-6b71-4955-a8e9-f1d0e66338d9",
   "metadata": {},
   "source": [
    "## Download from Huggingface\n"
   ]
  },
  {
   "cell_type": "code",
   "execution_count": null,
   "id": "f9d55e0a-71d0-4150-87d9-e2381a59d336",
   "metadata": {},
   "outputs": [],
   "source": [
    "!git clone https://huggingface.co/google/flan-t5-small"
   ]
  },
  {
   "cell_type": "markdown",
   "id": "d23a76e1-bc30-4b9a-83a1-390831a7c5c3",
   "metadata": {},
   "source": [
    "# Convert"
   ]
  },
  {
   "cell_type": "code",
   "execution_count": null,
   "id": "3fba490f-3630-46ec-a12e-a03f9b5afa10",
   "metadata": {},
   "outputs": [],
   "source": [
    "import caikit_nlp\n",
    "import time\n",
    "import os\n",
    "\n",
    "input_folder = \"flan-t5-small\"\n",
    "output_folder = os.path.join(\"models/flan-t5-small-caikit\")\n",
    "os.makedirs(output_folder, exist_ok=True)\n",
    "\n",
    "start_time = time.time()\n",
    "model = caikit_nlp.text_generation.TextGeneration.bootstrap(input_folder)\n",
    "model.save(model_path=output_folder)\n",
    "end_time = time.time()\n",
    "print(f\"Time taken: **{end_time - start_time:.5f} seconds**\")\n"
   ]
  },
  {
   "cell_type": "code",
   "execution_count": null,
   "id": "1503dc82-18ce-4e82-a426-b6c66d02f835",
   "metadata": {},
   "outputs": [],
   "source": []
  }
 ],
 "metadata": {
  "kernelspec": {
   "display_name": "Python 3.9",
   "language": "python",
   "name": "python3"
  },
  "language_info": {
   "codemirror_mode": {
    "name": "ipython",
    "version": 3
   },
   "file_extension": ".py",
   "mimetype": "text/x-python",
   "name": "python",
   "nbconvert_exporter": "python",
   "pygments_lexer": "ipython3",
   "version": "3.9.18"
  }
 },
 "nbformat": 4,
 "nbformat_minor": 5
}
