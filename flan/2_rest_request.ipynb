{
 "cells": [
  {
   "cell_type": "markdown",
   "id": "f73046ff",
   "metadata": {},
   "source": [
    "# REST Request Inference"
   ]
  },
  {
   "cell_type": "code",
   "execution_count": 5,
   "id": "06538dab-7bb1-4eed-99e7-5cc28317ad91",
   "metadata": {
    "tags": []
   },
   "outputs": [],
   "source": [
    "MODEL_ID = \"flan-t5-small-caikit\"\n",
    "INFERENCE_HOST = \"https://flan-t5-small-caikit-predictor-caikit-testing.apps.<cluster>.openshiftapps.com\""
   ]
  },
  {
   "cell_type": "code",
   "execution_count": null,
   "id": "66f7b5b7-7260-4ed6-af47-2df275231f15",
   "metadata": {},
   "outputs": [],
   "source": []
  },
  {
   "cell_type": "code",
   "execution_count": 7,
   "id": "fb5690b3-7617-4a14-8cae-a43140f8cba2",
   "metadata": {
    "tags": []
   },
   "outputs": [
    {
     "name": "stdout",
     "output_type": "stream",
     "text": [
      "flan-t5-small-caikit\n",
      "/usr/bin/sh: line 1: cluster: No such file or directory\n"
     ]
    }
   ],
   "source": [
    "!echo $MODEL_ID\n",
    "!echo $INFERENCE_HOST"
   ]
  },
  {
   "cell_type": "code",
   "execution_count": 10,
   "id": "72f6b09b-c12d-4bd0-9786-d8a99c648038",
   "metadata": {
    "tags": []
   },
   "outputs": [
    {
     "name": "stdout",
     "output_type": "stream",
     "text": [
      "{\"generated_text\": \"74 degrees F\", \"generated_tokens\": 5, \"finish_reason\": \"EOS_TOKEN\", \"producer_id\": {\"name\": \"Text Generation\", \"version\": \"0.1.0\"}, \"input_token_count\": 9, \"seed\": null}"
     ]
    }
   ],
   "source": [
    "!curl -kL -H 'Content-Type: application/json' -d '{\"model_id\": \"flan-t5-small-caikit\", \"inputs\": \"At what temperature does Nitrogen boil?\"}' https://flan-t5-small-caikit-predictor-caikit-testing.apps.aisrhods-wx.8goc.p1.openshiftapps.com/api/v1/task/text-generation\n"
   ]
  },
  {
   "cell_type": "code",
   "execution_count": null,
   "id": "ce4eea86-133d-44cd-b620-ebfddf999979",
   "metadata": {},
   "outputs": [],
   "source": [
    "!curl -kL -H 'Content-Type: application/json' -d '{\"model_id\": \"flan-t5-small-caikit\", \"inputs\": \"At what temperature does Nitrogen boil?\"}' https://flan-t5-small-caikit-predictor-caikit-testing.apps.aisrhods-wx.8goc.p1.openshiftapps.com/api/v1/task/server-streaming-text-generation"
   ]
  },
  {
   "cell_type": "code",
   "execution_count": null,
   "id": "b260e10a4356d601",
   "metadata": {
    "collapsed": false,
    "jupyter": {
     "outputs_hidden": false
    }
   },
   "outputs": [],
   "source": []
  }
 ],
 "metadata": {
  "kernelspec": {
   "display_name": "Python 3.9",
   "language": "python",
   "name": "python3"
  },
  "language_info": {
   "codemirror_mode": {
    "name": "ipython",
    "version": 3
   },
   "file_extension": ".py",
   "mimetype": "text/x-python",
   "name": "python",
   "nbconvert_exporter": "python",
   "pygments_lexer": "ipython3",
   "version": "3.9.18"
  }
 },
 "nbformat": 4,
 "nbformat_minor": 5
}
