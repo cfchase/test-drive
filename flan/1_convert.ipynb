{
 "cells": [
  {
   "cell_type": "code",
   "execution_count": null,
   "id": "447c568b-b227-4437-8e0e-17746f393554",
   "metadata": {},
   "outputs": [],
   "source": [
    "# !wget https://github.com/git-lfs/git-lfs/releases/download/v3.4.0/git-lfs-linux-amd64-v3.4.0.tar.gz\n",
    "# !tar -xvzf git-lfs-linux-amd64-v3.4.0.tar.gz\n",
    "# !PREFIX=/opt/app-root/src/.local ./git-lfs-3.4.0/install.sh "
   ]
  },
  {
   "cell_type": "code",
   "execution_count": null,
   "id": "8aa3a67b-ebf7-4737-9f41-0730ee009009",
   "metadata": {
    "tags": []
   },
   "outputs": [],
   "source": [
    "!git clone https://github.com/caikit/caikit-nlp.git"
   ]
  },
  {
   "cell_type": "code",
   "execution_count": null,
   "id": "752d93c2-dca2-4d23-9143-ad789a8b61ad",
   "metadata": {},
   "outputs": [],
   "source": [
    "!pip install ./caikit-nlp"
   ]
  },
  {
   "cell_type": "code",
   "execution_count": null,
   "id": "130f5630-fb45-4351-9d5f-359667cb47f8",
   "metadata": {},
   "outputs": [],
   "source": [
    "!git clone https://github.com/opendatahub-io/caikit-tgis-serving.git\n"
   ]
  },
  {
   "cell_type": "code",
   "execution_count": null,
   "id": "a6500fde-8d50-4608-b794-8644facf29f2",
   "metadata": {},
   "outputs": [],
   "source": [
    "!cp caikit-tgis-serving/utils/convert.py . \n"
   ]
  },
  {
   "cell_type": "code",
   "execution_count": null,
   "id": "f9d55e0a-71d0-4150-87d9-e2381a59d336",
   "metadata": {},
   "outputs": [],
   "source": [
    "!git clone https://huggingface.co/google/flan-t5-small"
   ]
  },
  {
   "cell_type": "code",
   "execution_count": null,
   "id": "3e4d5cf2-22fd-422e-845f-7014b4a7ace9",
   "metadata": {},
   "outputs": [],
   "source": [
    "!time ./convert.py --model-path ./flan-t5-small/ --model-save-path ./flan-t5-small-caikit"
   ]
  },
  {
   "cell_type": "code",
   "execution_count": null,
   "id": "d998e41e-9b06-43f5-b7a0-532b1b21cf2b",
   "metadata": {},
   "outputs": [],
   "source": [
    "import os\n",
    "import boto3\n",
    "import botocore\n",
    "\n",
    "aws_access_key_id = os.environ.get('AWS_ACCESS_KEY_ID')\n",
    "aws_secret_access_key = os.environ.get('AWS_SECRET_ACCESS_KEY')\n",
    "endpoint_url = os.environ.get('AWS_S3_ENDPOINT')\n",
    "region_name = os.environ.get('AWS_DEFAULT_REGION')\n",
    "bucket_name = os.environ.get('AWS_S3_BUCKET')\n",
    "\n",
    "session = boto3.session.Session(aws_access_key_id=aws_access_key_id,\n",
    "                                aws_secret_access_key=aws_secret_access_key)\n",
    "\n",
    "s3_resource = session.resource(\n",
    "    's3',\n",
    "    config=botocore.client.Config(signature_version='s3v4'),\n",
    "    endpoint_url=endpoint_url,\n",
    "    region_name=region_name)\n",
    "\n",
    "bucket = s3_resource.Bucket(bucket_name)\n",
    "\n",
    "\n",
    "def upload_directory(local_directory, s3_prefix):\n",
    "    for root, dirs, files in os.walk(local_directory):\n",
    "        for filename in files:\n",
    "            file_path = os.path.join(root, filename)\n",
    "            relative_path = os.path.relpath(file_path, local_directory)\n",
    "            s3_key = os.path.join(s3_prefix, relative_path)\n",
    "            print(f\"{file_path} -> {s3_key}\")\n",
    "            bucket.upload_file(file_path, s3_key)\n",
    "\n",
    "\n",
    "def list_objects(prefix):\n",
    "    filter = bucket.objects.filter(Prefix=prefix)\n",
    "    for obj in filter.all():\n",
    "        print(obj.key)\n"
   ]
  },
  {
   "cell_type": "code",
   "execution_count": null,
   "id": "5d2bc848-c130-426b-98f6-5427b77bb9d2",
   "metadata": {
    "tags": []
   },
   "outputs": [],
   "source": [
    "OUTPUT_DIR = \"flan-t5-small-caikit\"\n",
    "OUTPUT_DIR"
   ]
  },
  {
   "cell_type": "code",
   "execution_count": null,
   "id": "fba9b7a6-ce20-4376-bc08-5f0b6e5dec41",
   "metadata": {
    "tags": []
   },
   "outputs": [],
   "source": [
    "upload_directory(OUTPUT_DIR, f\"demo-models/{OUTPUT_DIR}\")"
   ]
  },
  {
   "cell_type": "code",
   "execution_count": null,
   "id": "48f256ef-900d-4666-8969-4403101a0cfc",
   "metadata": {
    "tags": []
   },
   "outputs": [],
   "source": [
    "list_objects(f\"demo-models/\")"
   ]
  },
  {
   "cell_type": "code",
   "execution_count": null,
   "id": "25ec8db0-77ee-4a1d-9640-0be80e5f8a98",
   "metadata": {
    "tags": []
   },
   "outputs": [],
   "source": [
    "!du -h flan-t5-small-caikit"
   ]
  },
  {
   "cell_type": "code",
   "execution_count": null,
   "id": "13130727-1895-474f-aee2-8471d34f0d2a",
   "metadata": {},
   "outputs": [],
   "source": [
    "!"
   ]
  }
 ],
 "metadata": {
  "kernelspec": {
   "display_name": "Python 3.9",
   "language": "python",
   "name": "python3"
  },
  "language_info": {
   "codemirror_mode": {
    "name": "ipython",
    "version": 3
   },
   "file_extension": ".py",
   "mimetype": "text/x-python",
   "name": "python",
   "nbconvert_exporter": "python",
   "pygments_lexer": "ipython3",
   "version": "3.9.18"
  }
 },
 "nbformat": 4,
 "nbformat_minor": 5
}
